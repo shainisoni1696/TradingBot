{
  "nbformat": 4,
  "nbformat_minor": 0,
  "metadata": {
    "colab": {
      "provenance": [],
      "include_colab_link": true
    },
    "kernelspec": {
      "name": "python3",
      "display_name": "Python 3"
    },
    "language_info": {
      "name": "python"
    }
  },
  "cells": [
    {
      "cell_type": "markdown",
      "metadata": {
        "id": "view-in-github",
        "colab_type": "text"
      },
      "source": [
        "<a href=\"https://colab.research.google.com/github/shainisoni1696/TradingBot/blob/main/finalcronjob.ipynb\" target=\"_parent\"><img src=\"https://colab.research.google.com/assets/colab-badge.svg\" alt=\"Open In Colab\"/></a>"
      ]
    },
    {
      "cell_type": "code",
      "execution_count": null,
      "metadata": {
        "id": "XE7JwVVB__Mk"
      },
      "outputs": [],
      "source": [
        "from flask import Flask, jsonify\n",
        "import gdown\n",
        "app = Flask(__name__)\n",
        "\n",
        "@app.route('/run-colab')\n",
        "def run_colab():\n",
        "    gdown.download('https://drive.google.com/file/d/1SJCsBOtHyPMLJ42SatCQw0Ev52z1HD_d', 'tradingBot.ipynb', quiet=False)\n",
        "    return jsonify(message='colab notebook ran successfully')\n",
        "\n",
        "def schedule_ai_bot():\n",
        "  schedule.every().day.at(\"13:35\").do(run_colab)\n",
        "      while True:\n",
        "        schedule.run_pending()\n",
        "        time.sleep(1)\n",
        "\n",
        "\n",
        "if __name__ == \"__main__\":\n",
        "  schedule_ai_bot()\n",
        "  app.run()\n",
        "\n"
      ]
    }
  ]
}