{
  "nbformat": 4,
  "nbformat_minor": 0,
  "metadata": {
    "colab": {
      "provenance": []
    },
    "kernelspec": {
      "name": "python3",
      "display_name": "Python 3"
    },
    "language_info": {
      "name": "python"
    }
  },
  "cells": [
    {
      "cell_type": "code",
      "execution_count": 2,
      "metadata": {
        "id": "XE7JwVVB__Mk"
      },
      "outputs": [],
      "source": [
        "from flask import Flask, jsonify\n",
        "import gdown\n",
        "app = Flask(__name__)\n",
        "\n",
        "@app.route('/run-colab')\n",
        "def run_colab():\n",
        "    gdown.download('https://drive.google.com/file/d/1SJCsBOtHyPMLJ42SatCQw0Ev52z1HD_d', 'tradingBot.ipynb', quiet=False)\n",
        "    return jsonify(message='colab notebook ran successfully')\n",
        "\n"
      ]
    }
  ]
}